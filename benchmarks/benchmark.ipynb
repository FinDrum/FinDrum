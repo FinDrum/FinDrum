{
 "cells": [
  {
   "cell_type": "code",
   "execution_count": null,
   "metadata": {},
   "outputs": [],
   "source": [
    "pip install requests orjson"
   ]
  },
  {
   "cell_type": "markdown",
   "metadata": {},
   "source": [
    "This benchmark compares the performance of the json.loads() and orjson.loads() functions when deserializing JSON data obtained from the SEC. The results show that orjson is significantly faster than the standard json library, making it a preferable choice for our application requiring efficient processing of large volumes of JSON data."
   ]
  },
  {
   "cell_type": "code",
   "execution_count": null,
   "metadata": {},
   "outputs": [],
   "source": [
    "import time\n",
    "import requests\n",
    "import json\n",
    "import orjson\n",
    "\n",
    "url = \"https://data.sec.gov/api/xbrl/companyfacts/CIK0001318605.json\"\n",
    "headers = {\n",
    "    \"User-Agent\": \"FinDrum Contact <[email protected]>\"\n",
    "}\n",
    "\n",
    "response = requests.get(url, headers=headers)\n",
    "response.raise_for_status()\n",
    "content_bytes = response.content\n",
    "content_str = content_bytes.decode('utf-8')\n",
    "\n",
    "start = time.time()\n",
    "data_json = json.loads(content_str)\n",
    "elapsed_json = time.time() - start\n",
    "print(f\"json.loads: {elapsed_json:.4f} seconds\")\n",
    "\n",
    "start = time.time()\n",
    "data_orjson = orjson.loads(content_bytes)\n",
    "elapsed_orjson = time.time() - start\n",
    "print(f\"orjson.loads: {elapsed_orjson:.4f} seconds\")\n",
    "\n",
    "print(f\"Are the results equal? {data_json == data_orjson}\")"
   ]
  },
  {
   "cell_type": "code",
   "execution_count": 1,
   "metadata": {},
   "outputs": [
    {
     "name": "stdout",
     "output_type": "stream",
     "text": [
      "Collecting pyarrow\n",
      "  Using cached pyarrow-20.0.0-cp312-cp312-manylinux_2_28_x86_64.whl.metadata (3.3 kB)\n",
      "Collecting fastparquet\n",
      "  Using cached fastparquet-2024.11.0-cp312-cp312-manylinux_2_17_x86_64.manylinux2014_x86_64.whl.metadata (4.2 kB)\n",
      "Requirement already satisfied: pandas>=1.5.0 in /home/oscar/TFG/code/GitHub/FinDrum/.venv/lib/python3.12/site-packages (from fastparquet) (2.2.3)\n",
      "Requirement already satisfied: numpy in /home/oscar/TFG/code/GitHub/FinDrum/.venv/lib/python3.12/site-packages (from fastparquet) (2.2.5)\n",
      "Collecting cramjam>=2.3 (from fastparquet)\n",
      "  Using cached cramjam-2.10.0-cp312-cp312-manylinux_2_17_x86_64.manylinux2014_x86_64.whl.metadata (5.0 kB)\n",
      "Collecting fsspec (from fastparquet)\n",
      "  Using cached fsspec-2025.3.2-py3-none-any.whl.metadata (11 kB)\n",
      "Requirement already satisfied: packaging in /home/oscar/TFG/code/GitHub/FinDrum/.venv/lib/python3.12/site-packages (from fastparquet) (25.0)\n",
      "Requirement already satisfied: python-dateutil>=2.8.2 in /home/oscar/TFG/code/GitHub/FinDrum/.venv/lib/python3.12/site-packages (from pandas>=1.5.0->fastparquet) (2.9.0.post0)\n",
      "Requirement already satisfied: pytz>=2020.1 in /home/oscar/TFG/code/GitHub/FinDrum/.venv/lib/python3.12/site-packages (from pandas>=1.5.0->fastparquet) (2025.2)\n",
      "Requirement already satisfied: tzdata>=2022.7 in /home/oscar/TFG/code/GitHub/FinDrum/.venv/lib/python3.12/site-packages (from pandas>=1.5.0->fastparquet) (2025.2)\n",
      "Requirement already satisfied: six>=1.5 in /home/oscar/TFG/code/GitHub/FinDrum/.venv/lib/python3.12/site-packages (from python-dateutil>=2.8.2->pandas>=1.5.0->fastparquet) (1.17.0)\n",
      "Using cached pyarrow-20.0.0-cp312-cp312-manylinux_2_28_x86_64.whl (42.3 MB)\n",
      "Using cached fastparquet-2024.11.0-cp312-cp312-manylinux_2_17_x86_64.manylinux2014_x86_64.whl (1.8 MB)\n",
      "Using cached cramjam-2.10.0-cp312-cp312-manylinux_2_17_x86_64.manylinux2014_x86_64.whl (2.0 MB)\n",
      "Using cached fsspec-2025.3.2-py3-none-any.whl (194 kB)\n",
      "Installing collected packages: pyarrow, fsspec, cramjam, fastparquet\n",
      "Successfully installed cramjam-2.10.0 fastparquet-2024.11.0 fsspec-2025.3.2 pyarrow-20.0.0\n",
      "\n",
      "\u001b[1m[\u001b[0m\u001b[34;49mnotice\u001b[0m\u001b[1;39;49m]\u001b[0m\u001b[39;49m A new release of pip is available: \u001b[0m\u001b[31;49m24.3.1\u001b[0m\u001b[39;49m -> \u001b[0m\u001b[32;49m25.1.1\u001b[0m\n",
      "\u001b[1m[\u001b[0m\u001b[34;49mnotice\u001b[0m\u001b[1;39;49m]\u001b[0m\u001b[39;49m To update, run: \u001b[0m\u001b[32;49mpip install --upgrade pip\u001b[0m\n",
      "Note: you may need to restart the kernel to use updated packages.\n"
     ]
    }
   ],
   "source": [
    "pip install pyarrow fastparquet"
   ]
  },
  {
   "cell_type": "code",
   "execution_count": 15,
   "metadata": {},
   "outputs": [
    {
     "name": "stdout",
     "output_type": "stream",
     "text": [
      "                  col1          col2     col3\n",
      "count   1000000.000000  1.000000e+06  1000000\n",
      "unique             NaN           NaN        4\n",
      "top                NaN           NaN        D\n",
      "freq               NaN           NaN   251252\n",
      "mean     499683.011860  4.998688e-01      NaN\n",
      "std      289013.014023  2.890450e-01      NaN\n",
      "min           0.000000  1.905448e-08      NaN\n",
      "25%      248999.000000  2.493063e-01      NaN\n",
      "50%      499277.000000  5.000773e-01      NaN\n",
      "75%      750504.500000  7.507578e-01      NaN\n",
      "max      999997.000000  9.999978e-01      NaN\n",
      "pyarrow      → 0.1264 seconds\n",
      "fastparquet  → 0.0973 seconds\n"
     ]
    }
   ],
   "source": [
    "import pandas as pd\n",
    "import numpy as np\n",
    "import time\n",
    "import io\n",
    "\n",
    "df = pd.DataFrame({\n",
    "    \"col1\": np.random.randint(0, 1000000, size=1_000_000),\n",
    "    \"col2\": np.random.rand(1_000_000),\n",
    "    \"col3\": np.random.choice([\"A\", \"B\", \"C\", \"D\"], size=1_000_000)\n",
    "})\n",
    "\n",
    "engines = [\"pyarrow\", \"fastparquet\"]\n",
    "\n",
    "results = {}\n",
    "\n",
    "print(df.describe(include=\"all\"))\n",
    "\n",
    "for engine in engines:\n",
    "    buffer = io.BytesIO()\n",
    "    label = engine\n",
    "    try:\n",
    "        start = time.time()\n",
    "        df.to_parquet(buffer, engine=engine, index=False)\n",
    "        elapsed = time.time() - start\n",
    "        results[label] = elapsed\n",
    "        print(f\"{label:<12} → {elapsed:.4f} seconds\")\n",
    "    except Exception as e:\n",
    "        results[label] = None\n",
    "        print(f\"{label:<12} → FAILED ({e})\")"
   ]
  }
 ],
 "metadata": {
  "kernelspec": {
   "display_name": ".venv",
   "language": "python",
   "name": "python3"
  },
  "language_info": {
   "codemirror_mode": {
    "name": "ipython",
    "version": 3
   },
   "file_extension": ".py",
   "mimetype": "text/x-python",
   "name": "python",
   "nbconvert_exporter": "python",
   "pygments_lexer": "ipython3",
   "version": "3.12.9"
  }
 },
 "nbformat": 4,
 "nbformat_minor": 2
}
