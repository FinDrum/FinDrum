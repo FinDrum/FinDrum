{
 "cells": [
  {
   "cell_type": "code",
   "execution_count": null,
   "metadata": {},
   "outputs": [],
   "source": [
    "pip install requests orjson"
   ]
  },
  {
   "cell_type": "markdown",
   "metadata": {},
   "source": [
    "Este benchmark compara el rendimiento de las funciones json.loads() y orjson.loads() al deserializar datos JSON obtenidos de la SEC. Los resultados muestran que orjson es significativamente más rápido que la biblioteca estándar json, lo que lo convierte en una opción preferible para aplicaciones que requieren un procesamiento eficiente de grandes volúmenes de datos JSON."
   ]
  },
  {
   "cell_type": "code",
   "execution_count": null,
   "metadata": {},
   "outputs": [],
   "source": [
    "import time\n",
    "import requests\n",
    "import json\n",
    "import orjson\n",
    "\n",
    "url = \"https://data.sec.gov/api/xbrl/companyfacts/CIK0001318605.json\"\n",
    "headers = {\n",
    "    \"User-Agent\": \"FinDrum Contact <[email protected]>\"\n",
    "}\n",
    "\n",
    "response = requests.get(url, headers=headers)\n",
    "response.raise_for_status()\n",
    "content_bytes = response.content\n",
    "content_str = content_bytes.decode('utf-8')\n",
    "\n",
    "start = time.time()\n",
    "data_json = json.loads(content_str)\n",
    "elapsed_json = time.time() - start\n",
    "print(f\"json.loads: {elapsed_json:.4f} seconds\")\n",
    "\n",
    "start = time.time()\n",
    "data_orjson = orjson.loads(content_bytes)\n",
    "elapsed_orjson = time.time() - start\n",
    "print(f\"orjson.loads: {elapsed_orjson:.4f} seconds\")\n",
    "\n",
    "print(f\"Are the results equal? {data_json == data_orjson}\")"
   ]
  }
 ],
 "metadata": {
  "kernelspec": {
   "display_name": ".venv",
   "language": "python",
   "name": "python3"
  },
  "language_info": {
   "codemirror_mode": {
    "name": "ipython",
    "version": 3
   },
   "file_extension": ".py",
   "mimetype": "text/x-python",
   "name": "python",
   "nbconvert_exporter": "python",
   "pygments_lexer": "ipython3",
   "version": "3.12.9"
  }
 },
 "nbformat": 4,
 "nbformat_minor": 2
}
